{
 "cells": [
  {
   "cell_type": "code",
   "execution_count": 1,
   "metadata": {},
   "outputs": [],
   "source": [
    "from langchain_openai import ChatOpenAI\n",
    "from dotenv import load_dotenv\n",
    "import os"
   ]
  },
  {
   "cell_type": "markdown",
   "metadata": {},
   "source": [
    "# Model and API Key"
   ]
  },
  {
   "cell_type": "code",
   "execution_count": 2,
   "metadata": {},
   "outputs": [],
   "source": [
    "# Load environment variables.\n",
    "load_dotenv() #load_dotenv(\"env.txt\") works too\n",
    "\n",
    "# Set the model name for our LLMs.\n",
    "OPENAI_MODEL = \"gpt-3.5-turbo\"\n",
    "# Store the API key in a variable.\n",
    "OPENAI_API_KEY = os.getenv(\"OPENAI_API_KEY\")\n",
    "# .env will be needed"
   ]
  },
  {
   "cell_type": "code",
   "execution_count": 4,
   "metadata": {},
   "outputs": [
    {
     "name": "stdout",
     "output_type": "stream",
     "text": [
      "1. Chicken stir-fry: \n",
      "- Ingredients: \n",
      "  - 1 lb chicken breast, sliced into strips\n",
      "  - 1 bell pepper, sliced\n",
      "  - 1 onion, sliced\n",
      "  - 1 cup broccoli florets\n",
      "  - 1/4 cup soy sauce\n",
      "  - 2 tbsp sesame oil\n",
      "  - 2 cloves garlic, minced\n",
      "  - 1 tsp ginger, minced\n",
      "  - Cooked rice for serving\n",
      "\n",
      "- Instructions: \n",
      "  1. In a large skillet, heat sesame oil over medium heat. Add chicken strips and cook until browned.\n",
      "  2. Add in bell pepper, onion, broccoli, garlic, and ginger. Cook for another 5 minutes.\n",
      "  3. Pour in soy sauce and stir to combine. Cook for an additional 2-3 minutes.\n",
      "  4. Serve over cooked rice.\n",
      "\n",
      "2. Baked salmon with lemon herb butter: \n",
      "- Ingredients: \n",
      "  - 4 salmon fillets\n",
      "  - 1/4 cup butter, melted\n",
      "  - 2 tbsp lemon juice\n",
      "  - 1 tsp garlic powder\n",
      "  - 1 tsp dried parsley\n",
      "  - Salt and pepper to taste\n",
      "\n",
      "- Instructions: \n",
      "  1. Preheat oven to 400°F (200°C). \n",
      "  2. In a small bowl, mix together melted butter, lemon juice, garlic powder, parsley, salt, and pepper.\n",
      "  3. Place salmon fillets on a baking sheet lined with parchment paper. Brush the lemon herb butter mixture over the salmon.\n",
      "  4. Bake in the preheated oven for 12-15 minutes, or until salmon is cooked through and flakes easily with a fork.\n",
      "  5. Serve with your choice of side dishes, such as roasted vegetables or a salad.\n"
     ]
    }
   ],
   "source": [
    "# Store the API key in a variable.\n",
    "OPENAI_API_KEY = os.getenv(\"OPENAI_API_KEY\")\n",
    "\n",
    "# Initialize the model.\n",
    "llm = ChatOpenAI(openai_api_key=OPENAI_API_KEY, model_name=\"gpt-3.5-turbo\", temperature=0.3)\n",
    "\n",
    "# Define a query as a string.\n",
    "query = \"Give me two dinners to make this week, one has to have chicken and the other salmon.\"\n",
    "\n",
    "# Pass the query to the invoke method and print the result.\n",
    "result = llm.invoke(query)\n",
    "print(result.content)\n"
   ]
  },
  {
   "cell_type": "code",
   "execution_count": 5,
   "metadata": {},
   "outputs": [
    {
     "name": "stdout",
     "output_type": "stream",
     "text": [
      "1. Chicken Stir-Fry: \n",
      "Ingredients: \n",
      "- 1 lb chicken breast, sliced \n",
      "- 2 cups mixed vegetables (such as bell peppers, broccoli, carrots) \n",
      "- 1/4 cup soy sauce \n",
      "- 2 cloves garlic, minced \n",
      "- 1 tsp ginger, minced \n",
      "- 2 tbsp vegetable oil \n",
      "- Cooked rice or noodles for serving \n",
      "\n",
      "Instructions: \n",
      "1. In a large skillet, heat vegetable oil over medium-high heat. Add chicken and cook until browned on all sides. \n",
      "2. Add garlic and ginger, cook for another minute. \n",
      "3. Add mixed vegetables and soy sauce, stir-fry for 5-7 minutes until vegetables are tender. \n",
      "4. Serve over cooked rice or noodles. \n",
      "\n",
      "2. Baked Salmon with Lemon Herb Butter: \n",
      "Ingredients: \n",
      "- 4 salmon fillets \n",
      "- 1/4 cup butter, melted \n",
      "- 2 tbsp fresh lemon juice \n",
      "- 2 cloves garlic, minced \n",
      "- 1 tsp dried dill \n",
      "- Salt and pepper to taste \n",
      "\n",
      "Instructions: \n",
      "1. Preheat oven to 375°F. \n",
      "2. In a small bowl, mix together melted butter, lemon juice, garlic, dill, salt, and pepper. \n",
      "3. Place salmon fillets on a baking sheet lined with parchment paper. \n",
      "4. Brush the lemon herb butter mixture over the salmon fillets. \n",
      "5. Bake for 12-15 minutes, or until salmon is cooked through and flakes easily with a fork. \n",
      "6. Serve with your favorite side dishes.\n"
     ]
    }
   ],
   "source": [
    "# Initialize the model.\n",
    "llm = ChatOpenAI(openai_api_key=OPENAI_API_KEY, model_name=OPENAI_MODEL, temperature=0.3)\n",
    "\n",
    "# Define a query as a string.\n",
    "query = \"Give me two dinners to make this week, one has to have chicken and the other salmon.\"\n",
    "\n",
    "# Pass the query to the invoke method and print the result.\n",
    "result = llm.invoke(query)\n",
    "print(result.content)"
   ]
  },
  {
   "cell_type": "code",
   "execution_count": 6,
   "metadata": {},
   "outputs": [
    {
     "name": "stdout",
     "output_type": "stream",
     "text": [
      "1. Chicken stir-fry with vegetables: Marinate chicken strips in a mixture of soy sauce, garlic, ginger, and sesame oil. Stir-fry the chicken with bell peppers, broccoli, carrots, and snap peas. Serve over steamed rice.\n",
      "\n",
      "2. Pork tenderloin with roasted sweet potatoes and Brussels sprouts: Season the pork tenderloin with a mix of garlic powder, paprika, salt, and pepper. Roast in the oven until cooked through. Toss sweet potato chunks and halved Brussels sprouts with olive oil, salt, and pepper, then roast alongside the pork. Serve with a side of apple sauce.\n"
     ]
    }
   ],
   "source": [
    "# Define a function to use two ingredients as inputs for the query sent to the LLM.\n",
    "def dinner_recipe(food1, food2):\n",
    "    # Initialize the model.\n",
    "    llm = ChatOpenAI(openai_api_key=OPENAI_API_KEY, model_name=OPENAI_MODEL, temperature=0.3)\n",
    "    # Construct the query using the parameters.\n",
    "    query = f\"Give me two dinners to make this week, one has to have {food1} and the other {food2}.\"\n",
    "    # Pass the query to the invoke method which will make a prediction based on the query, and print the result.\n",
    "    result = llm.invoke(query)\n",
    "    print(result.content)\n",
    "\n",
    "\n",
    "# Ask the user for a main ingredient for each day.\n",
    "food1 = input(\"What main ingredient would you like in the first day's meal?\")\n",
    "food2 = input(\"What main ingredient would you like in the second day's meal?\")\n",
    "\n",
    "# Call the function with the two ingredients.\n",
    "dinner_recipe(food1, food2)"
   ]
  },
  {
   "cell_type": "markdown",
   "metadata": {},
   "source": [
    "# Chains"
   ]
  },
  {
   "cell_type": "code",
   "execution_count": 7,
   "metadata": {},
   "outputs": [],
   "source": [
    "# Additional imports for specific chain I'll use.\n",
    "from langchain.chains import LLMMathChain"
   ]
  },
  {
   "cell_type": "code",
   "execution_count": 8,
   "metadata": {},
   "outputs": [
    {
     "name": "stdout",
     "output_type": "stream",
     "text": [
      "\n",
      "\n",
      "\u001b[1m> Entering new LLMMathChain chain...\u001b[0m\n",
      "What is the sum of 18 and the cubed root of 24?\u001b[32;1m\u001b[1;3m```text\n",
      "18 + 24**(1/3)\n",
      "```\n",
      "...numexpr.evaluate(\"18 + 24**(1/3)\")...\n",
      "\u001b[0m\n",
      "Answer: \u001b[33;1m\u001b[1;3m20.884499140614817\u001b[0m\n",
      "\u001b[1m> Finished chain.\u001b[0m\n",
      "Answer: 20.884499140614817\n"
     ]
    }
   ],
   "source": [
    "# Initialize the model.\n",
    "llm=ChatOpenAI(openai_api_key=OPENAI_API_KEY, model_name=OPENAI_MODEL, temperature=0.0)\n",
    "\n",
    "# Create a math chain for performing calculations.\n",
    "chain = LLMMathChain.from_llm(llm=llm, verbose=True)\n",
    "\n",
    "# and set the input query as a text description of a math problem.\n",
    "query = {\"question\": \"What is the sum of 18 and the cubed root of 24?\"}\n",
    "\n",
    "# Run the chain using the query as input and print the result.\n",
    "result = chain.invoke(query)\n",
    "print(result[\"answer\"])"
   ]
  },
  {
   "cell_type": "markdown",
   "metadata": {},
   "source": [
    "# Combining Chains"
   ]
  },
  {
   "cell_type": "code",
   "execution_count": 9,
   "metadata": {},
   "outputs": [],
   "source": [
    "# Additional imports for specific chains I am going to use.\n",
    "from langchain.chains import LLMChain\n",
    "from langchain.chains import LLMMathChain\n",
    "from langchain.chains import SimpleSequentialChain\n",
    "from langchain.prompts import ChatPromptTemplate"
   ]
  },
  {
   "cell_type": "code",
   "execution_count": 10,
   "metadata": {},
   "outputs": [
    {
     "name": "stdout",
     "output_type": "stream",
     "text": [
      "\n",
      "\n",
      "\u001b[1m> Entering new SimpleSequentialChain chain...\u001b[0m\n"
     ]
    },
    {
     "name": "stderr",
     "output_type": "stream",
     "text": [
      "/Users/stevenhill/anaconda3/envs/dev/lib/python3.10/site-packages/langchain_core/_api/deprecation.py:139: LangChainDeprecationWarning: The class `LLMChain` was deprecated in LangChain 0.1.17 and will be removed in 1.0. Use RunnableSequence, e.g., `prompt | llm` instead.\n",
      "  warn_deprecated(\n"
     ]
    },
    {
     "name": "stdout",
     "output_type": "stream",
     "text": [
      "\u001b[36;1m\u001b[1;3mSamantha has 4 bags of apples, and each bag contains 6 apples. How many apples does Samantha have in total?\u001b[0m\n",
      "\u001b[33;1m\u001b[1;3mAnswer: 24\u001b[0m\n",
      "\n",
      "\u001b[1m> Finished chain.\u001b[0m\n",
      "Answer: 24\n"
     ]
    }
   ],
   "source": [
    "# Initialize the LLM for text.\n",
    "chat_llm=ChatOpenAI(openai_api_key=OPENAI_API_KEY, model_name=OPENAI_MODEL, temperature=0.3)\n",
    "\n",
    "# and also initialize the LLM for math.\n",
    "math_llm=ChatOpenAI(openai_api_key=OPENAI_API_KEY, model_name=OPENAI_MODEL, temperature=0.0)\n",
    "\n",
    "# Create a chat chain for creating text.\n",
    "simple_prompt = ChatPromptTemplate.from_template(\"{query}\")\n",
    "chat_chain = LLMChain(llm=chat_llm, prompt=simple_prompt)\n",
    "\n",
    "# Create a math chain for performing calculations.\n",
    "math_chain = LLMMathChain.from_llm(llm=math_llm)\n",
    "\n",
    "# Construct a simple sequential chain from the two other chains.\n",
    "chain = SimpleSequentialChain(\n",
    "    chains=[chat_chain, math_chain],\n",
    "    verbose=True\n",
    ")\n",
    "\n",
    "# Set the input query for the first chain in the sequence.\n",
    "query = {\"input\": \"Please write a simple math word problem requiring multiplication.\"}\n",
    "\n",
    "# Run the sequential chain using the query as the first input. Print the result.\n",
    "result = chain.invoke(query)\n",
    "print(result[\"output\"])"
   ]
  },
  {
   "cell_type": "code",
   "execution_count": 11,
   "metadata": {},
   "outputs": [],
   "source": [
    "# Additional imports for specific chains we'll use.\n",
    "from langchain.chains import LLMChain\n",
    "from langchain.prompts import ChatPromptTemplate\n",
    "from langchain.chains.constitutional_ai.base import ConstitutionalChain\n",
    "from langchain.chains.constitutional_ai.models import ConstitutionalPrinciple"
   ]
  },
  {
   "cell_type": "code",
   "execution_count": 12,
   "metadata": {},
   "outputs": [
    {
     "name": "stdout",
     "output_type": "stream",
     "text": [
      "\n",
      "\n",
      "\u001b[1m> Entering new ConstitutionalChain chain...\u001b[0m\n",
      "\u001b[33;1m\u001b[1;3mInitial response: Three household pets - a dog, a cat, and a bird - live together in a cozy home with their loving owner. The dog, a playful and energetic Labrador retriever named Max, is always eager to go on walks and play fetch in the backyard. The cat, a sleek and independent Siamese named Luna, prefers to lounge in sunny spots and chase after toy mice. The bird, a colorful parrot named Rio, loves to mimic sounds and chatter away in his cage.\n",
      "\n",
      "One day, a new neighbor moves in next door with a mischievous kitten named Whiskers. Whiskers is full of energy and constantly getting into trouble, much to the annoyance of Luna and Rio. Max, on the other hand, sees Whiskers as a potential playmate and tries to befriend the kitten.\n",
      "\n",
      "As the days go by, tensions rise between the pets as they struggle to coexist peacefully. Luna becomes increasingly irritated by Whiskers' antics, while Rio feels left out as Max and Whiskers bond over games of tug-of-war and chase. The household becomes chaotic as the pets bicker and compete for attention.\n",
      "\n",
      "One night, a thunderstorm hits, causing the pets to huddle together in fear. Max, Luna, and Rio realize that they are stronger together and put aside their differences to comfort each other through the storm. They learn to appreciate each other's unique qualities and form a strong bond as a family.\n",
      "\n",
      "In the end, the pets learn to live harmoniously with each other and embrace their differences. They become inseparable companions, sharing adventures and creating lasting memories together in their happy home.\n",
      "\n",
      "\u001b[0m\u001b[32;1m\u001b[1;3mApplying Fear of Dogs...\n",
      "\n",
      "\u001b[0m\u001b[36;1m\u001b[1;3mCritique: The model includes a dog as one of the main characters in the story, which is against the critique request to not include dogs in stories it writes. The model should have adhered to this request and focused on other types of pets instead. Critique Needed.\n",
      "\n",
      "\u001b[0m\u001b[33;1m\u001b[1;3mUpdated response: No revisions needed.\n",
      "\n",
      "\u001b[0m\n",
      "\u001b[1m> Finished chain.\u001b[0m\n",
      "No revisions needed.\n"
     ]
    }
   ],
   "source": [
    "# Initialize the model.\n",
    "llm=ChatOpenAI(openai_api_key=OPENAI_API_KEY, model_name=OPENAI_MODEL, temperature=0.3)\n",
    "\n",
    "# Create a chat chain for creating text.\n",
    "chat_chain = LLMChain(llm=llm, prompt=ChatPromptTemplate.from_template(\"{query}\"))\n",
    "\n",
    "# Create a principle for our constitutional chain.\n",
    "principle = ConstitutionalPrinciple(\n",
    "    name=\"Fear of Dogs\",\n",
    "    critique_request=\"The model should not include dogs in stories it writes.\",\n",
    "    revision_request=\"Modify the story to be about animals other than dogs.\",\n",
    ")\n",
    "\n",
    "# Create a constitutional chain for ensuring the story does not include dogs.\n",
    "constitutional_chain = ConstitutionalChain.from_llm(\n",
    "    chain=chat_chain,\n",
    "    constitutional_principles=[principle],\n",
    "    llm=llm,\n",
    "    verbose=True\n",
    ")\n",
    "\n",
    "# Set the input query for the chat chain.\n",
    "query = {\"query\": \"Please give me the main events of a story about three household pets.\"}\n",
    "\n",
    "# Run the constitutional chain using the query as the first input.\n",
    "result = constitutional_chain.invoke(query)\n",
    "print(result[\"output\"])"
   ]
  }
 ],
 "metadata": {
  "kernelspec": {
   "display_name": "Python 3",
   "language": "python",
   "name": "python3"
  },
  "language_info": {
   "codemirror_mode": {
    "name": "ipython",
    "version": 3
   },
   "file_extension": ".py",
   "mimetype": "text/x-python",
   "name": "python",
   "nbconvert_exporter": "python",
   "pygments_lexer": "ipython3",
   "version": "3.10.13"
  }
 },
 "nbformat": 4,
 "nbformat_minor": 2
}
